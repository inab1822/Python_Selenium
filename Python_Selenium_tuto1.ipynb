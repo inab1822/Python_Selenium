{
 "cells": [
  {
   "cell_type": "code",
   "execution_count": 2,
   "id": "065d23aa-f260-48f0-b92e-7596beffab3d",
   "metadata": {
    "collapsed": true,
    "jupyter": {
     "outputs_hidden": true
    },
    "tags": []
   },
   "outputs": [
    {
     "name": "stdout",
     "output_type": "stream",
     "text": [
      "Requirement already satisfied: selenium in c:\\users\\inab1\\miniconda3\\lib\\site-packages (4.8.2)\n",
      "Requirement already satisfied: trio-websocket~=0.9 in c:\\users\\inab1\\miniconda3\\lib\\site-packages (from selenium) (0.9.2)\n",
      "Requirement already satisfied: certifi>=2021.10.8 in c:\\users\\inab1\\miniconda3\\lib\\site-packages (from selenium) (2022.12.7)\n",
      "Requirement already satisfied: trio~=0.17 in c:\\users\\inab1\\miniconda3\\lib\\site-packages (from selenium) (0.22.0)\n",
      "Requirement already satisfied: urllib3[socks]~=1.26 in c:\\users\\inab1\\miniconda3\\lib\\site-packages (from selenium) (1.26.8)\n",
      "Requirement already satisfied: sniffio in c:\\users\\inab1\\miniconda3\\lib\\site-packages (from trio~=0.17->selenium) (1.3.0)\n",
      "Requirement already satisfied: cffi>=1.14 in c:\\users\\inab1\\miniconda3\\lib\\site-packages (from trio~=0.17->selenium) (1.15.0)\n",
      "Requirement already satisfied: outcome in c:\\users\\inab1\\miniconda3\\lib\\site-packages (from trio~=0.17->selenium) (1.2.0)\n",
      "Requirement already satisfied: async-generator>=1.9 in c:\\users\\inab1\\miniconda3\\lib\\site-packages (from trio~=0.17->selenium) (1.10)\n",
      "Requirement already satisfied: attrs>=19.2.0 in c:\\users\\inab1\\miniconda3\\lib\\site-packages (from trio~=0.17->selenium) (22.1.0)\n",
      "Requirement already satisfied: exceptiongroup>=1.0.0rc9 in c:\\users\\inab1\\miniconda3\\lib\\site-packages (from trio~=0.17->selenium) (1.1.0)\n",
      "Requirement already satisfied: sortedcontainers in c:\\users\\inab1\\miniconda3\\lib\\site-packages (from trio~=0.17->selenium) (2.4.0)\n",
      "Requirement already satisfied: idna in c:\\users\\inab1\\miniconda3\\lib\\site-packages (from trio~=0.17->selenium) (3.3)\n",
      "Requirement already satisfied: pycparser in c:\\users\\inab1\\miniconda3\\lib\\site-packages (from cffi>=1.14->trio~=0.17->selenium) (2.21)\n",
      "Requirement already satisfied: wsproto>=0.14 in c:\\users\\inab1\\miniconda3\\lib\\site-packages (from trio-websocket~=0.9->selenium) (1.2.0)\n",
      "Requirement already satisfied: PySocks!=1.5.7,<2.0,>=1.5.6 in c:\\users\\inab1\\miniconda3\\lib\\site-packages (from urllib3[socks]~=1.26->selenium) (1.7.1)\n",
      "Requirement already satisfied: h11<1,>=0.9.0 in c:\\users\\inab1\\miniconda3\\lib\\site-packages (from wsproto>=0.14->trio-websocket~=0.9->selenium) (0.14.0)\n",
      "Note: you may need to restart the kernel to use updated packages.\n"
     ]
    }
   ],
   "source": [
    "pip install selenium"
   ]
  },
  {
   "cell_type": "code",
   "execution_count": 1,
   "id": "845b98f5-f58d-4d15-b6bd-ab13fdbc239d",
   "metadata": {},
   "outputs": [],
   "source": [
    "import selenium\n",
    "from selenium import webdriver\n",
    "from selenium.webdriver import ActionChains\n",
    "\n",
    "from selenium.webdriver.common.keys import Keys\n",
    "from selenium.webdriver.common.by import By\n",
    "\n",
    "from selenium.webdriver.support import expected_conditions as EC\n",
    "from selenium.webdriver.support.ui import Select\n",
    "from selenium.webdriver.support.ui import WebDriverWait"
   ]
  },
  {
   "cell_type": "code",
   "execution_count": 27,
   "id": "0895c2bf-e384-43d9-80f9-94fabe6d6f97",
   "metadata": {},
   "outputs": [],
   "source": [
    "URL = 'https://www.google.com/'\n",
    "\n",
    "driver = webdriver.Chrome(executable_path='chromedriver')\n",
    "driver.get(url=URL) # get함수는 url을 브라우저에서 띄운다."
   ]
  },
  {
   "cell_type": "code",
   "execution_count": 9,
   "id": "bad99237-40a9-4e35-bd56-f7537f07d45c",
   "metadata": {},
   "outputs": [
    {
     "name": "stdout",
     "output_type": "stream",
     "text": [
      "https://www.google.com/\n"
     ]
    }
   ],
   "source": [
    "print(driver.current_url) # 현재 url을 얻을 수 있다."
   ]
  },
  {
   "cell_type": "code",
   "execution_count": 13,
   "id": "8645b31e-909e-4436-89ef-1972c47c1a3e",
   "metadata": {},
   "outputs": [],
   "source": [
    "# 브라우저 닫기\n",
    "driver.close() # get으로 열었던 url이 닫힌다."
   ]
  },
  {
   "cell_type": "markdown",
   "id": "72944313-d7c0-40c2-a4fa-20bf45df2696",
   "metadata": {},
   "source": [
    "#### 브라우저가 웹 페이지에서 요소들을 로드하는데 시간이 걸린다.\n",
    "#### element가 존재하지 않는다는 error를 않보기 위해 대기시간이 필요하다."
   ]
  },
  {
   "cell_type": "code",
   "execution_count": 19,
   "id": "64c790dd-c085-4719-badb-9220422698ca",
   "metadata": {},
   "outputs": [],
   "source": [
    "# 찾으려는 element가 로드될 때까지 지정한 시간만큼 대기\n",
    "# 인자는 초 단위이며 default값은 5 아래의 예시는 5초까지 기다린다는 의미\n",
    "driver.implicitly_wait(time_to_wait=5)\n",
    "# time.sleep(secs)함수도 무조건 몇 초간 대기하는 방법이 있지만 효율이 안좋다."
   ]
  },
  {
   "cell_type": "code",
   "execution_count": 26,
   "id": "aa9e916c-8124-4861-be1c-1adb6729af5d",
   "metadata": {},
   "outputs": [],
   "source": [
    "from selenium.webdriver.common.by import By\n",
    "from selenium.webdriver.support.ui import WebDriverWait\n",
    "from selenium.webdriver.support import expected_conditions as EC\n",
    "\n",
    "# 웹 드라이버를 크롬드라이버로 설정한다\n",
    "driver = webdriver.Chrome('chromedriver')\n",
    "# 구글페이지 주소를 url로 get으로 실행한다.\n",
    "driver.get(url='https://www.google.com/')\n",
    "\n",
    "# class의 이름이 gLFyf인 elemet를 찾는 것을 5초동안 매 0.5초마다 시도한다\n",
    "# EC는 만약 찾을 수 있었으면 True를 아니면 False를 반환한다.\n",
    "try:\n",
    "    element = WebDriverWait(driver, 5).until(\n",
    "        EC.presence_of_all_elements_located((By.CLASS_NAME,'gLFyf'))\n",
    "    )\n",
    "finally:\n",
    "    driver.quit()"
   ]
  },
  {
   "cell_type": "code",
   "execution_count": 10,
   "id": "fb001074-5cc7-4826-b733-df0adc74d685",
   "metadata": {},
   "outputs": [
    {
     "name": "stdout",
     "output_type": "stream",
     "text": [
      "Gorio Tech Blog\n",
      "https://greeksharifa.github.io\n"
     ]
    }
   ],
   "source": [
    "from selenium import webdriver\n",
    "from selenium.webdriver.common.keys import Keys\n",
    "from time import sleep\n",
    "\n",
    "# 드라이버옵션을 크롬드라이버를 사용한다.\n",
    "options = webdriver.ChromeOptions()\n",
    "\n",
    "# 새 창을 열때의 사이즈를 정한다.\n",
    "options.add_argument('window-size=1920,1080')\n",
    "\n",
    "# 크롬 브라우저로 열도록 한다.\n",
    "driver = webdriver.Chrome('chromedriver', options=options)\n",
    "\n",
    "# 찾을 element가 로딩이 느릴 수도 있으니 5초동안 기다린다.\n",
    "driver.implicitly_wait(5)\n",
    "\n",
    "# 크롬 브라우저로 url 주소로 이동한다.\n",
    "driver.get(url='https://www.google.com/')\n",
    "\n",
    "\n",
    "# find_element로 원하는 요소를 찾는다\n",
    "# search_box 즉 검색창을 찾고싶다.\n",
    "# By.XPATH는 매우 강력한 찾기 기능을 제공한다.\n",
    "# 전체경로를 갖고 찾기 기능을 수행하는데\n",
    "# 아래의 문자열은 열린 페이지에서 ctrl + shift + c로 개발자 도구로 들어가 \n",
    "# 찾고자 하는 요소에 마우스 오른쪽 버튼 클릭 후 복사 탭에서 xpath복사를 누르면 된다.\n",
    "search_box = driver.find_element(By.XPATH,'/html/body/div[1]/div[3]/form/div[1]/div[1]/div[1]/div/div[2]/input')\n",
    "\n",
    "# send_keys로 찾은 요소에 원하는 내요의 텍스트를 넣을 수 있다.\n",
    "# 아래는 'greeksharifa.github.io' 를 요소찾기로 찾은 검색창에 입력하는 동작인다.\n",
    "search_box.send_keys('greeksharifa.github.io')\n",
    "\n",
    "# Keys.RETURN으로 엔터를 입력하는 동작을 한다.\n",
    "# Keys.ENTER도 있다.\n",
    "search_box.send_keys(Keys.RETURN)\n",
    "\n",
    "# 추가로 입력한 텍스트를 지우고 싶으면 Keys.BACKSPACE 또는 Keys.BACK_SPACE 가 있다\n",
    "# 만약 전체를 지우고 싶으면 search_box.clear() 처럼 선택한 요소에서 clear() 함수를 호출하면 된다.\n",
    "# 변수 search_box안의 모든 요소를 지워버린다.\n",
    "\n",
    "\n",
    "# 새로운 element를 xpath로 찾아 elements로 넣는다.\n",
    "# 아래의 xpath는 'greeksharifa.github.io' 를 구글 검색창에 검색한 결과 중\n",
    "# 제일 처음의 요소를 가져오는 xpath이다.\n",
    "elements = driver.find_elements(By.XPATH,'//*[@id=\"rso\"]/div[1]/div/div/div/div/div/div/div[1]')\n",
    "\n",
    "# 위의 elements변수를 작동하였을 때 나타나는 요소들을 하나하나 for문을 돌린다.\n",
    "for element in elements:\n",
    "    # text요소를 출력하고,\n",
    "    print(element.text)\n",
    "    # text요소를 'gorio.txt'라는 텍스트파일을 만들어 저장한다.\n",
    "    print(element.text, file=open('gorio.txt', 'w', encoding='utf-8'))\n",
    "\n",
    "sleep(3)\n",
    "driver.close()"
   ]
  },
  {
   "cell_type": "markdown",
   "id": "0d61bd64-3c4e-457f-a505-e4820f09beda",
   "metadata": {},
   "source": [
    "### 아래 코드들은 입력할 수 있는 keys의 목록들이다."
   ]
  },
  {
   "cell_type": "code",
   "execution_count": 11,
   "id": "cfcdbc90-d7eb-414f-8456-e5b6519ef8f1",
   "metadata": {},
   "outputs": [],
   "source": [
    "class Keys(object):\n",
    "    \"\"\"\n",
    "    Set of special keys codes.\n",
    "    \"\"\"\n",
    "\n",
    "    NULL = '\\ue000'\n",
    "    CANCEL = '\\ue001'  # ^break\n",
    "    HELP = '\\ue002'\n",
    "    BACKSPACE = '\\ue003'\n",
    "    BACK_SPACE = BACKSPACE\n",
    "    TAB = '\\ue004'\n",
    "    CLEAR = '\\ue005'\n",
    "    RETURN = '\\ue006'\n",
    "    ENTER = '\\ue007'\n",
    "    SHIFT = '\\ue008'\n",
    "    LEFT_SHIFT = SHIFT\n",
    "    CONTROL = '\\ue009'\n",
    "    LEFT_CONTROL = CONTROL\n",
    "    ALT = '\\ue00a'\n",
    "    LEFT_ALT = ALT\n",
    "    PAUSE = '\\ue00b'\n",
    "    ESCAPE = '\\ue00c'\n",
    "    SPACE = '\\ue00d'\n",
    "    PAGE_UP = '\\ue00e'\n",
    "    PAGE_DOWN = '\\ue00f'\n",
    "    END = '\\ue010'\n",
    "    HOME = '\\ue011'\n",
    "    LEFT = '\\ue012'\n",
    "    ARROW_LEFT = LEFT\n",
    "    UP = '\\ue013'\n",
    "    ARROW_UP = UP\n",
    "    RIGHT = '\\ue014'\n",
    "    ARROW_RIGHT = RIGHT\n",
    "    DOWN = '\\ue015'\n",
    "    ARROW_DOWN = DOWN\n",
    "    INSERT = '\\ue016'\n",
    "    DELETE = '\\ue017'\n",
    "    SEMICOLON = '\\ue018'\n",
    "    EQUALS = '\\ue019'\n",
    "\n",
    "    NUMPAD0 = '\\ue01a'  # number pad keys\n",
    "    NUMPAD1 = '\\ue01b'\n",
    "    NUMPAD2 = '\\ue01c'\n",
    "    NUMPAD3 = '\\ue01d'\n",
    "    NUMPAD4 = '\\ue01e'\n",
    "    NUMPAD5 = '\\ue01f'\n",
    "    NUMPAD6 = '\\ue020'\n",
    "    NUMPAD7 = '\\ue021'\n",
    "    NUMPAD8 = '\\ue022'\n",
    "    NUMPAD9 = '\\ue023'\n",
    "    MULTIPLY = '\\ue024'\n",
    "    ADD = '\\ue025'\n",
    "    SEPARATOR = '\\ue026'\n",
    "    SUBTRACT = '\\ue027'\n",
    "    DECIMAL = '\\ue028'\n",
    "    DIVIDE = '\\ue029'\n",
    "\n",
    "    F1 = '\\ue031'  # function  keys\n",
    "    F2 = '\\ue032'\n",
    "    F3 = '\\ue033'\n",
    "    F4 = '\\ue034'\n",
    "    F5 = '\\ue035'\n",
    "    F6 = '\\ue036'\n",
    "    F7 = '\\ue037'\n",
    "    F8 = '\\ue038'\n",
    "    F9 = '\\ue039'\n",
    "    F10 = '\\ue03a'\n",
    "    F11 = '\\ue03b'\n",
    "    F12 = '\\ue03c'\n",
    "\n",
    "    META = '\\ue03d'\n",
    "    COMMAND = '\\ue03d'"
   ]
  },
  {
   "cell_type": "code",
   "execution_count": null,
   "id": "5e66100c-15ea-492d-9e53-5ab57e09105a",
   "metadata": {},
   "outputs": [],
   "source": []
  }
 ],
 "metadata": {
  "kernelspec": {
   "display_name": "Python 3 (ipykernel)",
   "language": "python",
   "name": "python3"
  },
  "language_info": {
   "codemirror_mode": {
    "name": "ipython",
    "version": 3
   },
   "file_extension": ".py",
   "mimetype": "text/x-python",
   "name": "python",
   "nbconvert_exporter": "python",
   "pygments_lexer": "ipython3",
   "version": "3.9.12"
  }
 },
 "nbformat": 4,
 "nbformat_minor": 5
}
